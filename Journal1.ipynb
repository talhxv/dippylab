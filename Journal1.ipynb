{
 "cells": [
  {
   "cell_type": "code",
   "execution_count": 2,
   "id": "initial_id",
   "metadata": {
    "collapsed": true,
    "ExecuteTime": {
     "end_time": "2024-09-19T07:44:38.206219Z",
     "start_time": "2024-09-19T07:44:38.200939Z"
    }
   },
   "outputs": [
    {
     "name": "stdout",
     "output_type": "stream",
     "text": [
      "hello\n"
     ]
    }
   ],
   "source": [
    "print(\"hello\")"
   ]
  },
  {
   "cell_type": "code",
   "outputs": [
    {
     "name": "stdout",
     "output_type": "stream",
     "text": [
      "[2, 6, 7]\n",
      "[7, 9, 10]\n",
      "[8, 10, 10]\n"
     ]
    }
   ],
   "source": [
    "arr1 = [[1,2,3], [3,4,5], [4,5,5]]\n",
    "arr2 = [[1,4,4], [4,5,5], [4,5,5]]\n",
    "\n",
    "sum = [[arr1[i][j] + arr2[i][j] for j in range (len(arr1[0]))] for i in range(len(arr1))]\n",
    "\n",
    "for result in sum:\n",
    "    print (result)"
   ],
   "metadata": {
    "collapsed": false,
    "ExecuteTime": {
     "end_time": "2024-09-19T07:46:49.262267Z",
     "start_time": "2024-09-19T07:46:49.246946Z"
    }
   },
   "id": "55024f69bd76cd0e",
   "execution_count": 3
  },
  {
   "cell_type": "code",
   "outputs": [
    {
     "name": "stdout",
     "output_type": "stream",
     "text": [
      "[0, -2, -1]\n",
      "[-1, -1, 0]\n",
      "[0, 0, 0]\n"
     ]
    }
   ],
   "source": [
    "arr1 = [[1,2,3], [3,4,5], [4,5,5]]\n",
    "arr2 = [[1,4,4], [4,5,5], [4,5,5]]\n",
    "\n",
    "sum = [[arr1[i][j] - arr2[i][j] for j in range (len(arr1[0]))] for i in range(len(arr1))]\n",
    "\n",
    "for result in sum:\n",
    "    print (result)"
   ],
   "metadata": {
    "collapsed": false,
    "ExecuteTime": {
     "end_time": "2024-09-19T07:46:54.438427Z",
     "start_time": "2024-09-19T07:46:54.426915Z"
    }
   },
   "id": "5eaea4a55c43ab9c",
   "execution_count": 4
  },
  {
   "cell_type": "code",
   "outputs": [],
   "source": [],
   "metadata": {
    "collapsed": false
   },
   "id": "10992687cdff9d60"
  }
 ],
 "metadata": {
  "kernelspec": {
   "display_name": "Python 3",
   "language": "python",
   "name": "python3"
  },
  "language_info": {
   "codemirror_mode": {
    "name": "ipython",
    "version": 2
   },
   "file_extension": ".py",
   "mimetype": "text/x-python",
   "name": "python",
   "nbconvert_exporter": "python",
   "pygments_lexer": "ipython2",
   "version": "2.7.6"
  }
 },
 "nbformat": 4,
 "nbformat_minor": 5
}
