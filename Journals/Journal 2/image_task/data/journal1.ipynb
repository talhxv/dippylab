{
 "cells": [
  {
   "cell_type": "markdown",
   "source": [
    "# Task 1/2"
   ],
   "metadata": {
    "collapsed": false
   },
   "id": "bb483cdfc13a0497"
  },
  {
   "cell_type": "code",
   "outputs": [],
   "source": [
    "import cv2\n",
    "\n",
    "image = cv2.imread('images.jpg')\n",
    "\n",
    "height, width, channels = image.shape\n",
    "\n",
    "print(f\"Image Dimensions:\")\n",
    "print(f\"Height: {height} pixels\")\n",
    "print(f\"Width: {width} pixels\")\n",
    "print(f\"Number of channels: {channels}\")\n"
   ],
   "metadata": {
    "collapsed": false
   },
   "id": "e3ec61cdc3fae2b2",
   "execution_count": null
  },
  {
   "cell_type": "markdown",
   "source": [
    "# Task 3|"
   ],
   "metadata": {
    "collapsed": false
   },
   "id": "6e8699061cf4ca37"
  },
  {
   "cell_type": "code",
   "outputs": [],
   "source": [
    "import cv2\n",
    "from PIL import Image\n",
    "import matplotlib.pyplot as plt\n",
    "\n",
    "pil_image = Image.open('images.jpg')\n",
    "pil_image.show()  \n",
    "\n",
    "plt.figure(figsize=(10, 5))\n",
    "plt.subplot(131)\n",
    "plt.imshow(pil_image)\n",
    "plt.title('PIL Image')\n",
    "plt.axis('off')\n",
    "\n",
    "cv_image = cv2.imread('images.jpg')\n",
    "cv_image_rgb = cv2.cvtColor(cv_image, cv2.COLOR_BGR2RGB)\n",
    "\n",
    "plt.subplot(132)\n",
    "plt.imshow(cv_image_rgb)\n",
    "plt.title('OpenCV Image')\n",
    "plt.axis('off')\n",
    "\n",
    "plt.tight_layout()\n",
    "plt.show()\n"
   ],
   "metadata": {
    "collapsed": false
   },
   "id": "8c761d33a5844ac9",
   "execution_count": null
  },
  {
   "cell_type": "markdown",
   "source": [
    "# Task 4\n"
   ],
   "metadata": {
    "collapsed": false
   },
   "id": "a04f2dbabe9fb6b6"
  },
  {
   "cell_type": "code",
   "outputs": [],
   "source": [
    "import cv2\n",
    "import matplotlib.pyplot as plt\n",
    "\n",
    "\n",
    "image = cv2.imread('images.jpg')\n",
    "\n",
    "blue, green, red = cv2.split( image)\n",
    "\n",
    "plt.figure(figsize=(12, 8))\n",
    "\n",
    "plt.subplot(221)\n",
    "plt.imshow(cv2.cvtColor(image, cv2.COLOR_BGR2RGB))\n",
    "plt.title('Original Image')\n",
    "plt.axis('off')\n",
    "\n",
    "plt.subplot(222)\n",
    "plt.imshow(blue, cmap='Blues')\n",
    "plt.title('Blue Channel')\n",
    "plt.axis('off')\n",
    "\n",
    "plt.subplot(223)\n",
    "plt.imshow(green, cmap='Greens')\n",
    "plt.title('Green Channel')\n",
    "plt.axis('off')\n",
    "\n",
    "plt.subplot(224)\n",
    "plt.imshow(red, cmap='Reds')\n",
    "plt.title('Red Channel')\n",
    "plt.axis('off')\n",
    "\n",
    "plt.tight_layout()\n",
    "plt.show()"
   ],
   "metadata": {
    "collapsed": false
   },
   "id": "75358bb2d2328f36",
   "execution_count": null
  },
  {
   "cell_type": "markdown",
   "source": [
    "# Task 5"
   ],
   "metadata": {
    "collapsed": false
   },
   "id": "df87344878e7ed40"
  },
  {
   "cell_type": "code",
   "outputs": [],
   "source": [
    "from sklearn.datasets import load_iris\n",
    "\n",
    "iris = load_iris()"
   ],
   "metadata": {
    "collapsed": false
   },
   "id": "c74907c4e81d6dc9",
   "execution_count": null
  },
  {
   "cell_type": "markdown",
   "source": [
    "# Task 6"
   ],
   "metadata": {
    "collapsed": false
   },
   "id": "32b9d01a7dda0df5"
  },
  {
   "cell_type": "code",
   "outputs": [],
   "source": [
    "import cv2\n",
    "import numpy as np\n",
    "import matplotlib.pyplot as plt\n",
    "\n",
    "def manual_grayscale(image):\n",
    "    b, g, r = cv2.split(image)\n",
    "    gray = 0.299 * r + 0.587 * g + 0.114 * b\n",
    "    gray = np.uint8(gray)\n",
    "    return gray\n",
    "\n",
    "image = cv2.imread('images.jpg')\n",
    "\n",
    "manual_gray = manual_grayscale(image)\n",
    "\n",
    "opencv_gray = cv2.cvtColor(image, cv2.COLOR_BGR2GRAY)\n",
    "\n",
    "plt.figure(figsize=(12, 4))\n",
    "\n",
    "plt.subplot(131)\n",
    "plt.imshow(cv2.cvtColor(image, cv2.COLOR_BGR2RGB))\n",
    "plt.title('Original Image')\n",
    "plt.axis('off')\n",
    "\n",
    "plt.subplot(132)\n",
    "plt.imshow(manual_gray, cmap='gray')\n",
    "plt.title('Manual Grayscale')\n",
    "plt.axis('off')\n",
    "\n",
    "plt.subplot(133)\n",
    "plt.imshow(opencv_gray, cmap='gray')\n",
    "plt.title('OpenCV Grayscale')\n",
    "plt.axis('off')\n",
    "\n",
    "plt.tight_layout()\n",
    "plt.show()\n",
    "\n",
    "difference = cv2.absdiff(manual_gray, opencv_gray)\n",
    "print(f\"Maximum difference between manual and OpenCV conversion: {np.max(difference)}\")"
   ],
   "metadata": {
    "collapsed": false
   },
   "id": "be5c86c0f8332391",
   "execution_count": null
  },
  {
   "cell_type": "code",
   "outputs": [],
   "source": [],
   "metadata": {
    "collapsed": false
   },
   "id": "e1e192ba273448e0",
   "execution_count": null
  }
 ],
 "metadata": {
  "kernelspec": {
   "display_name": "Python 3",
   "language": "python",
   "name": "python3"
  },
  "language_info": {
   "codemirror_mode": {
    "name": "ipython",
    "version": 2
   },
   "file_extension": ".py",
   "mimetype": "text/x-python",
   "name": "python",
   "nbconvert_exporter": "python",
   "pygments_lexer": "ipython2",
   "version": "2.7.6"
  }
 },
 "nbformat": 4,
 "nbformat_minor": 5
}
